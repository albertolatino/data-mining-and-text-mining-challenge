{
 "cells": [
  {
   "cell_type": "code",
   "execution_count": 124,
   "metadata": {},
   "outputs": [],
   "source": [
    "import pandas as pd\n",
    "import numpy as np\n",
    "import copy\n",
    "import random\n",
    "\n",
    "import matplotlib as mpl\n",
    "import matplotlib.pyplot as plt\n",
    "\n",
    "from sklearn.model_selection import train_test_split\n",
    "from sklearn.model_selection import StratifiedKFold\n",
    "from sklearn.model_selection import cross_validate\n",
    "\n",
    "from sklearn.ensemble import RandomForestClassifier\n",
    "\n",
    "from sklearn.metrics import precision_score\n",
    "from sklearn.metrics import recall_score\n",
    "from sklearn.metrics import f1_score\n",
    "\n",
    "\n",
    "from IPython.core.interactiveshell import InteractiveShell  # print all outputs\n",
    "InteractiveShell.ast_node_interactivity = \"all\"\n",
    "\n",
    "#plt.style.use('fivethirtyeight') \n",
    "#mpl.rcParams['lines.linewidth'] = 2\n",
    "#mpl.rcParams['text.color'] = 'k'\n",
    "%matplotlib inline"
   ]
  },
  {
   "cell_type": "code",
   "execution_count": 125,
   "metadata": {},
   "outputs": [],
   "source": [
    "SEED = 1234\n",
    "random.seed(SEED)"
   ]
  },
  {
   "cell_type": "code",
   "execution_count": 126,
   "metadata": {},
   "outputs": [],
   "source": [
    "#Finally, we load processed data after having selected the most relevant features \n",
    "df_train = pd.read_csv('data/data_to_predict.csv')\n",
    "df_original = pd.read_csv(\"data/train.csv\")\n",
    "df_test = pd.read_csv('data/processed_discrete_test_data.csv')"
   ]
  },
  {
   "cell_type": "code",
   "execution_count": 127,
   "metadata": {},
   "outputs": [],
   "source": [
    "target_variable = 'aircon_sum_target_next14d'\n",
    "input_variables = df_train.columns[(df_train.columns!= target_variable) & (df_train.columns!= 'DATE') & (df_train.columns!= 'SITE_ID')]\n",
    "\n",
    "X = df_train[input_variables]\n",
    "y = df_train[target_variable]\n"
   ]
  },
  {
   "cell_type": "code",
   "execution_count": 128,
   "metadata": {},
   "outputs": [],
   "source": [
    "X_train, X_test, y_train, y_test = train_test_split(X, y, test_size= 0.2, random_state=SEED, shuffle=True)\n",
    "cv= StratifiedKFold(n_splits=10, shuffle=True)"
   ]
  },
  {
   "cell_type": "markdown",
   "metadata": {},
   "source": [
    "## Metric"
   ]
  },
  {
   "cell_type": "markdown",
   "metadata": {},
   "source": [
    "##### The evaluation metric is defined as \"Weighted Recall\", computed considering the 10 sites with highest fault probability as predicted with fault weighted by N_TRANSPORTED_SITES column. The thresholding level is therefore defined day by day by the top sites and not by a fixed threshold level.\n",
    "\n"
   ]
  },
  {
   "cell_type": "code",
   "execution_count": 129,
   "metadata": {},
   "outputs": [],
   "source": [
    "def add_date_and_pred(df_original, X_test, y_pred):\n",
    "   \n",
    "    X_test_date = X_test.copy()\n",
    "    X_test_date[\"DATE\"] = df_original.loc[X_test.index][\"DATE\"]\n",
    "    X_test_date[\"prediction\"] = 1\n",
    "    X_test_date[\"prediction\"] = X_test_date[\"prediction\"].multiply(y_pred)\n",
    "   \n",
    "    return X_test_date"
   ]
  },
  {
   "cell_type": "code",
   "execution_count": 130,
   "metadata": {},
   "outputs": [],
   "source": [
    "def add_date_and_target (df_original, X_test, y_test):\n",
    "   \n",
    "    X_test_date = X_test.copy()\n",
    "    X_test_date[\"DATE\"] = df_original.loc[X_test.index][\"DATE\"]\n",
    "    X_test_date['aircon_sum_target_next14d'] = 1\n",
    "    X_test_date['aircon_sum_target_next14d'] = X_test_date['aircon_sum_target_next14d'].multiply(y_test)\n",
    "   \n",
    "    return X_test_date"
   ]
  },
  {
   "cell_type": "code",
   "execution_count": 131,
   "metadata": {},
   "outputs": [],
   "source": [
    "def metric(df_original, X_test, y_test,y_pred ):\n",
    "\n",
    "    y_pred = [i[1] for i in y_pred ]\n",
    "    y_pred = np.array(y_pred)\n",
    "    \n",
    "    test_df_with_target = add_date_and_target (df_original, X_test, y_test)\n",
    "    test_df_with_target['SITE_ID'] = test_df_with_target.index\n",
    "\n",
    "\n",
    "    submission_dataset = add_date_and_pred(df_original, X_test, y_pred)\n",
    "    submission_dataset['SITE_ID'] = submission_dataset.index\n",
    "\n",
    "    eval_df = test_df_with_target[['SITE_ID' , 'DATE' , 'N_TRANSPORTED_SITES' , 'aircon_sum_target_next14d' ]].copy()\n",
    "\n",
    "    submission_dataset = submission_dataset.merge(eval_df, on=['SITE_ID' , 'DATE' ])\n",
    "\n",
    "    recalls = []\n",
    "\n",
    "    #compute daily performance\n",
    "\n",
    "    for date, daily_df in submission_dataset.groupby(['DATE' ]):\n",
    "\n",
    "        daily_df=daily_df.copy()\n",
    "\n",
    "        daily_df['final_prediction' ] = 0\n",
    "\n",
    "        daily_df['NORM_N_TRANSPORTED_SITES' ] = daily_df['N_TRANSPORTED_SITES_x']/daily_df['N_TRANSPORTED_SITES_x' ].max()\n",
    "\n",
    "        daily_df['weighted_prediction' ] = 0.8* daily_df['prediction' ] + 0.2*daily_df['NORM_N_TRANSPORTED_SITES' ]\n",
    "\n",
    "        daily_df = daily_df.sort_values(by=['weighted_prediction' ], ascending=False)\n",
    "\n",
    "        daily_df = daily_df.reset_index(drop=True)\n",
    "\n",
    "        daily_df.loc[0:10, 'final_prediction' ] = 1\n",
    "\n",
    "        daily_recall = recall_score(y_true=daily_df['aircon_sum_target_next14d' ], y_pred=daily_df['final_prediction' ])\n",
    "\n",
    "        recalls.append(daily_recall)\n",
    "\n",
    "    final_metric= np.mean(recalls)\n",
    "\n",
    "    return final_metric"
   ]
  },
  {
   "cell_type": "markdown",
   "metadata": {},
   "source": [
    "## Oversampling"
   ]
  },
  {
   "cell_type": "markdown",
   "metadata": {},
   "source": [
    "##### Since this dataset is heavily unbalanced, we decided to oversample the minority class (target = 1) in the training dataset. This has slighlty improved our model performance. In the cell below, we show the number of samples belonging to the target class before and after oversampling.\n",
    " "
   ]
  },
  {
   "cell_type": "code",
   "execution_count": 132,
   "metadata": {},
   "outputs": [
    {
     "name": "stdout",
     "output_type": "stream",
     "text": [
      "Number of samples belonging to class 0 and 1 before oversampling Counter({0: 489868, 1: 2832})\n",
      "Number of samples belonging to class 0 and 1 after oversampling Counter({0: 489868, 1: 97973})\n"
     ]
    }
   ],
   "source": [
    "import imblearn\n",
    "from collections import Counter\n",
    "from imblearn.over_sampling import RandomOverSampler\n",
    "oversample = RandomOverSampler(sampling_strategy=0.2)\n",
    "\n",
    "# fit and apply the transform\n",
    "X_train_over, y_train_over = oversample.fit_resample(X_train, y_train)\n",
    "\n",
    "print(\"Number of samples belonging to class 0 and 1 before oversampling \" + str((Counter(y_train))))\n",
    "print(\"Number of samples belonging to class 0 and 1 after oversampling \"+ str((Counter(y_train_over))))"
   ]
  },
  {
   "cell_type": "markdown",
   "metadata": {},
   "source": [
    "### Tuning hyperparameters"
   ]
  },
  {
   "cell_type": "markdown",
   "metadata": {},
   "source": [
    "##### We chose Random Forest as model to predict data. In the cell below we have found the highest effective combination of hyperparameters. Parameters we have tuned are the number of estimators, max depth and min. sample leaf."
   ]
  },
  {
   "cell_type": "code",
   "execution_count": null,
   "metadata": {},
   "outputs": [],
   "source": [
    "estimators = [250,300,350]\n",
    "max_depths = [30,35,40]\n",
    "min_sample_leaf = [2,5,10]\n",
    "\n",
    "from random import randrange\n",
    "\n",
    "models = []\n",
    "\n",
    "for i in range(4):\n",
    "    \n",
    "    for j in range(3):\n",
    "     \n",
    "\n",
    "        m_s_l = min_sample_leaf[randrange(3)]\n",
    "\n",
    "    \n",
    "        model = RandomForestClassifier(n_estimators= estimators[i], max_depth= max_depths[j], \n",
    "                                           oob_score=False, class_weight= \"balanced\",\n",
    "                                           random_state = SEED,\n",
    "                                           max_features = \"sqrt\",min_samples_leaf = m_s_l)\n",
    "        models.append(model)\n",
    "    \n",
    "for model in models :\n",
    "    \n",
    "    model.fit(X_train_over,y_train_over)\n",
    "    yp = model.predict(X_test)\n",
    "    y_pred = model.predict_proba(X_test)\n",
    "    print(\"========================================\")\n",
    "    print(\"%40s\"%model)\n",
    "    print(\"\\t      Precision %.3f\"%precision_score(y_test, yp))\n",
    "    print(\"\\t      Recall    %.3f\"%recall_score(y_test, yp))\n",
    "    print(\"\\t      F1        %.3f\"%f1_score(y_test, yp))\n",
    "    print(\"\\t WEIGHTED RECALL %.3f\"%metric(df_original,X_test,y_test, y_pred))\n",
    "    "
   ]
  },
  {
   "cell_type": "markdown",
   "metadata": {},
   "source": [
    "### The Model Chosen"
   ]
  },
  {
   "cell_type": "markdown",
   "metadata": {},
   "source": [
    "##### The most effective hyperparameters that seemed to give a better performance are:\n",
    "###### Num. of estimators = 300\n",
    "###### Max depth = 35\n",
    "###### Min sample leaf = 5"
   ]
  },
  {
   "cell_type": "code",
   "execution_count": 17,
   "metadata": {},
   "outputs": [],
   "source": [
    "model = RandomForestClassifier(n_estimators= 250, max_depth= 40, \n",
    "                                           oob_score=False, class_weight= \"balanced\",\n",
    "                                           random_state = SEED,\n",
    "                                           max_features = \"sqrt\",min_samples_leaf = 5)"
   ]
  },
  {
   "cell_type": "markdown",
   "metadata": {},
   "source": [
    "We have confirmed our model also through cross-validation"
   ]
  },
  {
   "cell_type": "raw",
   "metadata": {},
   "source": [
    "val_score = cross_validate(model, X, y,cv = cv, scoring = ['recall','precision','f1'])\n",
    "print(\"Recall    %.3f\"%val_score['test_recall'].mean())\n",
    "print(\"Precision %.3f\"%val_score['test_precision'].mean())\n",
    "print(\"F1        %.3f\"%val_score['test_f1'].mean())"
   ]
  },
  {
   "cell_type": "code",
   "execution_count": 18,
   "metadata": {},
   "outputs": [
    {
     "data": {
      "text/plain": [
       "RandomForestClassifier(class_weight='balanced', max_depth=40,\n",
       "                       max_features='sqrt', min_samples_leaf=5,\n",
       "                       n_estimators=250, random_state=1234)"
      ]
     },
     "execution_count": 18,
     "metadata": {},
     "output_type": "execute_result"
    }
   ],
   "source": [
    "model.fit(X_train_over,y_train_over)"
   ]
  },
  {
   "cell_type": "code",
   "execution_count": 133,
   "metadata": {},
   "outputs": [
    {
     "data": {
      "text/html": [
       "<div>\n",
       "<style scoped>\n",
       "    .dataframe tbody tr th:only-of-type {\n",
       "        vertical-align: middle;\n",
       "    }\n",
       "\n",
       "    .dataframe tbody tr th {\n",
       "        vertical-align: top;\n",
       "    }\n",
       "\n",
       "    .dataframe thead th {\n",
       "        text-align: right;\n",
       "    }\n",
       "</style>\n",
       "<table border=\"1\" class=\"dataframe\">\n",
       "  <thead>\n",
       "    <tr style=\"text-align: right;\">\n",
       "      <th></th>\n",
       "      <th>N_TRANSPORTED_SITES</th>\n",
       "      <th>GEOGRAPHIC_CLUSTER</th>\n",
       "      <th>aircon_sum_wo_prev7d</th>\n",
       "      <th>aircon_sum_wo_prev14d</th>\n",
       "      <th>mean_temperature_prev7d</th>\n",
       "      <th>max_temperature_prev7d</th>\n",
       "      <th>min_temperature_prev7d</th>\n",
       "      <th>mean_rain_mm_prev7d</th>\n",
       "      <th>max_rain_mm_prev7d</th>\n",
       "      <th>min_rain_mm_prev7d</th>\n",
       "      <th>...</th>\n",
       "      <th>skew_fire/smoke_alarms_prev14d</th>\n",
       "      <th>skew_ge_alarms_prev14d</th>\n",
       "      <th>skew_power_alarms_prev14d</th>\n",
       "      <th>skew_temperature_alarms_prev14d</th>\n",
       "      <th>kurt_equipment_alarms_prev14d</th>\n",
       "      <th>kurt_fire/smoke_alarms_prev14d</th>\n",
       "      <th>kurt_ge_alarms_prev14d</th>\n",
       "      <th>kurt_power_alarms_prev14d</th>\n",
       "      <th>kurt_temperature_alarms_prev14d</th>\n",
       "      <th>CELL_TYPE</th>\n",
       "    </tr>\n",
       "  </thead>\n",
       "  <tbody>\n",
       "    <tr>\n",
       "      <th>0</th>\n",
       "      <td>1.0</td>\n",
       "      <td>1</td>\n",
       "      <td>0.0</td>\n",
       "      <td>0.0</td>\n",
       "      <td>3.0</td>\n",
       "      <td>4.0</td>\n",
       "      <td>3.0</td>\n",
       "      <td>0.0</td>\n",
       "      <td>0.0</td>\n",
       "      <td>0.0</td>\n",
       "      <td>...</td>\n",
       "      <td>0.00</td>\n",
       "      <td>0.0</td>\n",
       "      <td>0.00</td>\n",
       "      <td>0.0</td>\n",
       "      <td>-1.212308</td>\n",
       "      <td>-1.212308</td>\n",
       "      <td>-1.212308</td>\n",
       "      <td>-1.210000</td>\n",
       "      <td>-1.212308</td>\n",
       "      <td>0</td>\n",
       "    </tr>\n",
       "    <tr>\n",
       "      <th>1</th>\n",
       "      <td>5.0</td>\n",
       "      <td>6</td>\n",
       "      <td>0.0</td>\n",
       "      <td>0.0</td>\n",
       "      <td>0.0</td>\n",
       "      <td>1.0</td>\n",
       "      <td>0.0</td>\n",
       "      <td>0.0</td>\n",
       "      <td>0.0</td>\n",
       "      <td>0.0</td>\n",
       "      <td>...</td>\n",
       "      <td>0.00</td>\n",
       "      <td>0.0</td>\n",
       "      <td>0.18</td>\n",
       "      <td>0.0</td>\n",
       "      <td>-1.210000</td>\n",
       "      <td>-1.210000</td>\n",
       "      <td>-1.212308</td>\n",
       "      <td>-0.080000</td>\n",
       "      <td>-1.210000</td>\n",
       "      <td>0</td>\n",
       "    </tr>\n",
       "    <tr>\n",
       "      <th>2</th>\n",
       "      <td>5.0</td>\n",
       "      <td>5</td>\n",
       "      <td>0.0</td>\n",
       "      <td>0.0</td>\n",
       "      <td>3.0</td>\n",
       "      <td>4.0</td>\n",
       "      <td>3.0</td>\n",
       "      <td>0.0</td>\n",
       "      <td>0.0</td>\n",
       "      <td>0.0</td>\n",
       "      <td>...</td>\n",
       "      <td>0.00</td>\n",
       "      <td>0.0</td>\n",
       "      <td>0.00</td>\n",
       "      <td>0.0</td>\n",
       "      <td>-1.212308</td>\n",
       "      <td>-1.212308</td>\n",
       "      <td>-1.212308</td>\n",
       "      <td>-1.212308</td>\n",
       "      <td>-1.212308</td>\n",
       "      <td>0</td>\n",
       "    </tr>\n",
       "    <tr>\n",
       "      <th>3</th>\n",
       "      <td>1.0</td>\n",
       "      <td>6</td>\n",
       "      <td>0.0</td>\n",
       "      <td>0.0</td>\n",
       "      <td>2.0</td>\n",
       "      <td>3.0</td>\n",
       "      <td>2.0</td>\n",
       "      <td>1.0</td>\n",
       "      <td>0.0</td>\n",
       "      <td>0.0</td>\n",
       "      <td>...</td>\n",
       "      <td>0.00</td>\n",
       "      <td>0.0</td>\n",
       "      <td>0.00</td>\n",
       "      <td>0.0</td>\n",
       "      <td>-1.212308</td>\n",
       "      <td>-1.210000</td>\n",
       "      <td>-1.212308</td>\n",
       "      <td>-1.210000</td>\n",
       "      <td>-1.210000</td>\n",
       "      <td>0</td>\n",
       "    </tr>\n",
       "    <tr>\n",
       "      <th>4</th>\n",
       "      <td>1.0</td>\n",
       "      <td>4</td>\n",
       "      <td>0.0</td>\n",
       "      <td>0.0</td>\n",
       "      <td>2.0</td>\n",
       "      <td>3.0</td>\n",
       "      <td>1.0</td>\n",
       "      <td>0.0</td>\n",
       "      <td>0.0</td>\n",
       "      <td>0.0</td>\n",
       "      <td>...</td>\n",
       "      <td>0.11</td>\n",
       "      <td>0.0</td>\n",
       "      <td>0.00</td>\n",
       "      <td>0.0</td>\n",
       "      <td>-1.212308</td>\n",
       "      <td>-1.160000</td>\n",
       "      <td>-1.212308</td>\n",
       "      <td>-1.210000</td>\n",
       "      <td>-1.210000</td>\n",
       "      <td>0</td>\n",
       "    </tr>\n",
       "    <tr>\n",
       "      <th>...</th>\n",
       "      <td>...</td>\n",
       "      <td>...</td>\n",
       "      <td>...</td>\n",
       "      <td>...</td>\n",
       "      <td>...</td>\n",
       "      <td>...</td>\n",
       "      <td>...</td>\n",
       "      <td>...</td>\n",
       "      <td>...</td>\n",
       "      <td>...</td>\n",
       "      <td>...</td>\n",
       "      <td>...</td>\n",
       "      <td>...</td>\n",
       "      <td>...</td>\n",
       "      <td>...</td>\n",
       "      <td>...</td>\n",
       "      <td>...</td>\n",
       "      <td>...</td>\n",
       "      <td>...</td>\n",
       "      <td>...</td>\n",
       "      <td>...</td>\n",
       "    </tr>\n",
       "    <tr>\n",
       "      <th>587836</th>\n",
       "      <td>1.0</td>\n",
       "      <td>3</td>\n",
       "      <td>0.0</td>\n",
       "      <td>0.0</td>\n",
       "      <td>2.0</td>\n",
       "      <td>2.0</td>\n",
       "      <td>2.0</td>\n",
       "      <td>0.0</td>\n",
       "      <td>0.0</td>\n",
       "      <td>0.0</td>\n",
       "      <td>...</td>\n",
       "      <td>0.00</td>\n",
       "      <td>0.0</td>\n",
       "      <td>0.00</td>\n",
       "      <td>0.0</td>\n",
       "      <td>-1.210000</td>\n",
       "      <td>-1.210000</td>\n",
       "      <td>-1.212308</td>\n",
       "      <td>-1.212308</td>\n",
       "      <td>-1.210000</td>\n",
       "      <td>0</td>\n",
       "    </tr>\n",
       "    <tr>\n",
       "      <th>587837</th>\n",
       "      <td>1.0</td>\n",
       "      <td>3</td>\n",
       "      <td>2.0</td>\n",
       "      <td>3.0</td>\n",
       "      <td>4.0</td>\n",
       "      <td>4.0</td>\n",
       "      <td>4.0</td>\n",
       "      <td>0.0</td>\n",
       "      <td>0.0</td>\n",
       "      <td>0.0</td>\n",
       "      <td>...</td>\n",
       "      <td>0.00</td>\n",
       "      <td>0.0</td>\n",
       "      <td>0.00</td>\n",
       "      <td>-0.1</td>\n",
       "      <td>-1.212308</td>\n",
       "      <td>-1.210000</td>\n",
       "      <td>-1.212308</td>\n",
       "      <td>-1.210000</td>\n",
       "      <td>-1.110000</td>\n",
       "      <td>0</td>\n",
       "    </tr>\n",
       "    <tr>\n",
       "      <th>587838</th>\n",
       "      <td>7.0</td>\n",
       "      <td>7</td>\n",
       "      <td>1.0</td>\n",
       "      <td>1.0</td>\n",
       "      <td>4.0</td>\n",
       "      <td>4.0</td>\n",
       "      <td>4.0</td>\n",
       "      <td>1.0</td>\n",
       "      <td>0.0</td>\n",
       "      <td>0.0</td>\n",
       "      <td>...</td>\n",
       "      <td>0.00</td>\n",
       "      <td>0.0</td>\n",
       "      <td>0.05</td>\n",
       "      <td>-0.2</td>\n",
       "      <td>-1.212308</td>\n",
       "      <td>-1.212308</td>\n",
       "      <td>-1.212308</td>\n",
       "      <td>-0.960000</td>\n",
       "      <td>-1.200000</td>\n",
       "      <td>0</td>\n",
       "    </tr>\n",
       "    <tr>\n",
       "      <th>587839</th>\n",
       "      <td>5.0</td>\n",
       "      <td>0</td>\n",
       "      <td>0.0</td>\n",
       "      <td>0.0</td>\n",
       "      <td>3.0</td>\n",
       "      <td>3.0</td>\n",
       "      <td>3.0</td>\n",
       "      <td>0.0</td>\n",
       "      <td>1.0</td>\n",
       "      <td>0.0</td>\n",
       "      <td>...</td>\n",
       "      <td>0.00</td>\n",
       "      <td>0.0</td>\n",
       "      <td>0.00</td>\n",
       "      <td>0.0</td>\n",
       "      <td>-1.210000</td>\n",
       "      <td>-1.210000</td>\n",
       "      <td>-1.212308</td>\n",
       "      <td>-1.210000</td>\n",
       "      <td>-1.210000</td>\n",
       "      <td>0</td>\n",
       "    </tr>\n",
       "    <tr>\n",
       "      <th>587840</th>\n",
       "      <td>2.0</td>\n",
       "      <td>3</td>\n",
       "      <td>0.0</td>\n",
       "      <td>0.0</td>\n",
       "      <td>3.0</td>\n",
       "      <td>3.0</td>\n",
       "      <td>2.0</td>\n",
       "      <td>0.0</td>\n",
       "      <td>0.0</td>\n",
       "      <td>0.0</td>\n",
       "      <td>...</td>\n",
       "      <td>0.00</td>\n",
       "      <td>0.0</td>\n",
       "      <td>0.00</td>\n",
       "      <td>0.0</td>\n",
       "      <td>-1.210000</td>\n",
       "      <td>-1.210000</td>\n",
       "      <td>-1.212308</td>\n",
       "      <td>-1.210000</td>\n",
       "      <td>-1.210000</td>\n",
       "      <td>0</td>\n",
       "    </tr>\n",
       "  </tbody>\n",
       "</table>\n",
       "<p>587841 rows × 71 columns</p>\n",
       "</div>"
      ],
      "text/plain": [
       "        N_TRANSPORTED_SITES  GEOGRAPHIC_CLUSTER  aircon_sum_wo_prev7d  \\\n",
       "0                       1.0                   1                   0.0   \n",
       "1                       5.0                   6                   0.0   \n",
       "2                       5.0                   5                   0.0   \n",
       "3                       1.0                   6                   0.0   \n",
       "4                       1.0                   4                   0.0   \n",
       "...                     ...                 ...                   ...   \n",
       "587836                  1.0                   3                   0.0   \n",
       "587837                  1.0                   3                   2.0   \n",
       "587838                  7.0                   7                   1.0   \n",
       "587839                  5.0                   0                   0.0   \n",
       "587840                  2.0                   3                   0.0   \n",
       "\n",
       "        aircon_sum_wo_prev14d  mean_temperature_prev7d  \\\n",
       "0                         0.0                      3.0   \n",
       "1                         0.0                      0.0   \n",
       "2                         0.0                      3.0   \n",
       "3                         0.0                      2.0   \n",
       "4                         0.0                      2.0   \n",
       "...                       ...                      ...   \n",
       "587836                    0.0                      2.0   \n",
       "587837                    3.0                      4.0   \n",
       "587838                    1.0                      4.0   \n",
       "587839                    0.0                      3.0   \n",
       "587840                    0.0                      3.0   \n",
       "\n",
       "        max_temperature_prev7d  min_temperature_prev7d  mean_rain_mm_prev7d  \\\n",
       "0                          4.0                     3.0                  0.0   \n",
       "1                          1.0                     0.0                  0.0   \n",
       "2                          4.0                     3.0                  0.0   \n",
       "3                          3.0                     2.0                  1.0   \n",
       "4                          3.0                     1.0                  0.0   \n",
       "...                        ...                     ...                  ...   \n",
       "587836                     2.0                     2.0                  0.0   \n",
       "587837                     4.0                     4.0                  0.0   \n",
       "587838                     4.0                     4.0                  1.0   \n",
       "587839                     3.0                     3.0                  0.0   \n",
       "587840                     3.0                     2.0                  0.0   \n",
       "\n",
       "        max_rain_mm_prev7d  min_rain_mm_prev7d  ...  \\\n",
       "0                      0.0                 0.0  ...   \n",
       "1                      0.0                 0.0  ...   \n",
       "2                      0.0                 0.0  ...   \n",
       "3                      0.0                 0.0  ...   \n",
       "4                      0.0                 0.0  ...   \n",
       "...                    ...                 ...  ...   \n",
       "587836                 0.0                 0.0  ...   \n",
       "587837                 0.0                 0.0  ...   \n",
       "587838                 0.0                 0.0  ...   \n",
       "587839                 1.0                 0.0  ...   \n",
       "587840                 0.0                 0.0  ...   \n",
       "\n",
       "        skew_fire/smoke_alarms_prev14d  skew_ge_alarms_prev14d  \\\n",
       "0                                 0.00                     0.0   \n",
       "1                                 0.00                     0.0   \n",
       "2                                 0.00                     0.0   \n",
       "3                                 0.00                     0.0   \n",
       "4                                 0.11                     0.0   \n",
       "...                                ...                     ...   \n",
       "587836                            0.00                     0.0   \n",
       "587837                            0.00                     0.0   \n",
       "587838                            0.00                     0.0   \n",
       "587839                            0.00                     0.0   \n",
       "587840                            0.00                     0.0   \n",
       "\n",
       "        skew_power_alarms_prev14d  skew_temperature_alarms_prev14d  \\\n",
       "0                            0.00                              0.0   \n",
       "1                            0.18                              0.0   \n",
       "2                            0.00                              0.0   \n",
       "3                            0.00                              0.0   \n",
       "4                            0.00                              0.0   \n",
       "...                           ...                              ...   \n",
       "587836                       0.00                              0.0   \n",
       "587837                       0.00                             -0.1   \n",
       "587838                       0.05                             -0.2   \n",
       "587839                       0.00                              0.0   \n",
       "587840                       0.00                              0.0   \n",
       "\n",
       "        kurt_equipment_alarms_prev14d  kurt_fire/smoke_alarms_prev14d  \\\n",
       "0                           -1.212308                       -1.212308   \n",
       "1                           -1.210000                       -1.210000   \n",
       "2                           -1.212308                       -1.212308   \n",
       "3                           -1.212308                       -1.210000   \n",
       "4                           -1.212308                       -1.160000   \n",
       "...                               ...                             ...   \n",
       "587836                      -1.210000                       -1.210000   \n",
       "587837                      -1.212308                       -1.210000   \n",
       "587838                      -1.212308                       -1.212308   \n",
       "587839                      -1.210000                       -1.210000   \n",
       "587840                      -1.210000                       -1.210000   \n",
       "\n",
       "        kurt_ge_alarms_prev14d  kurt_power_alarms_prev14d  \\\n",
       "0                    -1.212308                  -1.210000   \n",
       "1                    -1.212308                  -0.080000   \n",
       "2                    -1.212308                  -1.212308   \n",
       "3                    -1.212308                  -1.210000   \n",
       "4                    -1.212308                  -1.210000   \n",
       "...                        ...                        ...   \n",
       "587836               -1.212308                  -1.212308   \n",
       "587837               -1.212308                  -1.210000   \n",
       "587838               -1.212308                  -0.960000   \n",
       "587839               -1.212308                  -1.210000   \n",
       "587840               -1.212308                  -1.210000   \n",
       "\n",
       "        kurt_temperature_alarms_prev14d  CELL_TYPE  \n",
       "0                             -1.212308          0  \n",
       "1                             -1.210000          0  \n",
       "2                             -1.212308          0  \n",
       "3                             -1.210000          0  \n",
       "4                             -1.210000          0  \n",
       "...                                 ...        ...  \n",
       "587836                        -1.210000          0  \n",
       "587837                        -1.110000          0  \n",
       "587838                        -1.200000          0  \n",
       "587839                        -1.210000          0  \n",
       "587840                        -1.210000          0  \n",
       "\n",
       "[587841 rows x 71 columns]"
      ]
     },
     "execution_count": 133,
     "metadata": {},
     "output_type": "execute_result"
    }
   ],
   "source": [
    "X_train_over"
   ]
  },
  {
   "cell_type": "code",
   "execution_count": 93,
   "metadata": {},
   "outputs": [
    {
     "name": "stdout",
     "output_type": "stream",
     "text": [
      "========================================\n",
      "\t      Precision 0.731\n",
      "\t      Recall    0.825\n",
      "\t      F1        0.775\n"
     ]
    },
    {
     "name": "stderr",
     "output_type": "stream",
     "text": [
      "C:\\Users\\Francesco\\anaconda3\\lib\\site-packages\\sklearn\\metrics\\_classification.py:1221: UndefinedMetricWarning: Recall is ill-defined and being set to 0.0 due to no true samples. Use `zero_division` parameter to control this behavior.\n",
      "  _warn_prf(average, modifier, msg_start, len(result))\n"
     ]
    },
    {
     "name": "stdout",
     "output_type": "stream",
     "text": [
      "\t WEIGHTED RECALL 0.849\n"
     ]
    }
   ],
   "source": [
    "yp = model.predict(X_test)\n",
    "y_pred = model.predict_proba(X_test)\n",
    "print(\"========================================\")\n",
    "print(\"\\t      Precision %.3f\"%precision_score(y_test, yp))\n",
    "print(\"\\t      Recall    %.3f\"%recall_score(y_test, yp))\n",
    "print(\"\\t      F1        %.3f\"%f1_score(y_test, yp))\n",
    "print(\"\\t WEIGHTED RECALL %.3f\"%metric(df_original,X_test,y_test, y_pred))"
   ]
  },
  {
   "cell_type": "markdown",
   "metadata": {},
   "source": [
    "##### Here the most relevant features used by our model are plotted"
   ]
  },
  {
   "cell_type": "code",
   "execution_count": 16,
   "metadata": {},
   "outputs": [
    {
     "data": {
      "image/png": "[encoded data removed]",
      "text/plain": [
       "<Figure size 2880x720 with 1 Axes>"
      ]
     },
     "metadata": {
      "needs_background": "light"
     },
     "output_type": "display_data"
    }
   ],
   "source": [
    "plot_idx = 1\n",
    "plt.subplots(1,1,figsize=(40,10*1))\n",
    "font = {'family' : 'sans', 'size'   : 12}\n",
    "plt.rc('font', **font)\n",
    "   \n",
    "feature_importances = []\n",
    "    \n",
    "    # importance of features\n",
    "importances = model.feature_importances_\n",
    "    # indeces of the variables\n",
    "indices = np.argsort(importances)[::-1]\n",
    "feature_importances.append(X.columns[indices[:20]])\n",
    "    \n",
    "plt.subplot(1,1,plot_idx)\n",
    "plt.title(\"Feature importances of our model\")\n",
    "plt.xticks(range(X.shape[1]),X.columns[indices],rotation='vertical')\n",
    "plt.xlim([-1, X.shape[1]])\n",
    "plt.bar(range(X.shape[1]), importances[indices], color=\"r\")\n",
    "plot_idx = plot_idx + 1\n",
    "\n",
    "plt.tight_layout(pad=0.1, w_pad=1, h_pad=1)\n",
    "plt.show();"
   ]
  },
  {
   "cell_type": "markdown",
   "metadata": {},
   "source": [
    "### Predicting the Test"
   ]
  },
  {
   "cell_type": "markdown",
   "metadata": {},
   "source": [
    "#### From the feature selection notebook we decided to keep the following features. Therfore drop the others also in the df_test"
   ]
  },
  {
   "cell_type": "code",
   "execution_count": 134,
   "metadata": {},
   "outputs": [],
   "source": [
    "input_variables = df_test.columns[(df_test.columns!= 'DATE') & (df_test.columns!= 'SITE_ID')]\n",
    "test_to_predict = df_test[input_variables]"
   ]
  },
  {
   "cell_type": "code",
   "execution_count": 136,
   "metadata": {},
   "outputs": [
    {
     "name": "stdout",
     "output_type": "stream",
     "text": [
      "We are going to remove 49 attributes\n"
     ]
    }
   ],
   "source": [
    "ms_to_delete = []\n",
    "\n",
    "alarms = ['equipment', 'fire/smoke', 'ge', 'power', 'temperature']\n",
    "weathers = ['temperature', 'humidity', 'wind_speed', 'pressure']\n",
    "operators = ['mean', 'max', 'min']\n",
    "\n",
    "#sum\n",
    "for d in ['7', '3']:\n",
    "    for a in alarms:\n",
    "        ms_to_delete.append(a + '_sum_alarms_prev'+ d +'d')\n",
    "\n",
    "#weather prev\n",
    "for w in weathers:\n",
    "    for o in operators:\n",
    "        ms_to_delete.append(o + '_' + w + '_prev3d')\n",
    "        \n",
    "#weather future\n",
    "for w in weathers:\n",
    "    for o in operators:\n",
    "        ms_to_delete.append(o + '_' + w + '_f_next7d')\n",
    "\n",
    "#persistance\n",
    "for a in alarms:\n",
    "    for o in operators:\n",
    "        ms_to_delete.append(a + '_' + o +'_persistance_prev3d')\n",
    "\n",
    "\n",
    "print(\"We are going to remove \" +str(len(ms_to_delete))+ \" attributes\")"
   ]
  },
  {
   "cell_type": "code",
   "execution_count": 137,
   "metadata": {},
   "outputs": [],
   "source": [
    "test_to_predict = test_to_predict.drop(ms_to_delete, axis=1)"
   ]
  },
  {
   "cell_type": "markdown",
   "metadata": {},
   "source": [
    "### Generation of the prediction file"
   ]
  },
  {
   "cell_type": "markdown",
   "metadata": {},
   "source": [
    "Reorder the test_to_predict features"
   ]
  },
  {
   "cell_type": "code",
   "execution_count": 138,
   "metadata": {},
   "outputs": [],
   "source": [
    "test_to_predict = test_to_predict[X_train_over.columns]"
   ]
  },
  {
   "cell_type": "code",
   "execution_count": 139,
   "metadata": {},
   "outputs": [],
   "source": [
    "df = pd.DataFrame()\n",
    "df['SITE_ID'] = df_test['SITE_ID']\n",
    "df['DATE'] = df_test['DATE']\n",
    "test_pred = model.predict_proba(test_to_predict)\n",
    "test_pred = [i[1] for i in test_pred ]\n",
    "test_pred = np.array(test_pred)"
   ]
  },
  {
   "cell_type": "code",
   "execution_count": 123,
   "metadata": {},
   "outputs": [],
   "source": [
    "df[\"prediction\"] = test_pred\n",
    "\n",
    "df.to_csv(path_or_buf = 'data/predictions.csv',index = False)"
   ]
  }
 ],
 "metadata": {
  "kernelspec": {
   "display_name": "Python 3",
   "language": "python",
   "name": "python3"
  },
  "language_info": {
   "codemirror_mode": {
    "name": "ipython",
    "version": 3
   },
   "file_extension": ".py",
   "mimetype": "text/x-python",
   "name": "python",
   "nbconvert_exporter": "python",
   "pygments_lexer": "ipython3",
   "version": "3.8.5"
  }
 },
 "nbformat": 4,
 "nbformat_minor": 4
}
