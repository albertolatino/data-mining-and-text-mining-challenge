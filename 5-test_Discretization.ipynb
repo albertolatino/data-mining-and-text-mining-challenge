{
 "cells": [
  {
   "cell_type": "code",
   "execution_count": 2,
   "metadata": {},
   "outputs": [],
   "source": [
    "import pandas as pd\n",
    "import numpy as np\n",
    "import copy\n",
    "import random\n",
    "\n",
    "import datetime as datetime\n",
    "\n",
    "import matplotlib as mpl\n",
    "import matplotlib.pyplot as plt\n",
    "import seaborn as sns\n",
    "\n",
    "from dython.nominal import associations\n",
    "from statsmodels.graphics.mosaicplot import mosaic\n",
    "from sklearn.model_selection import train_test_split\n",
    "from sklearn.preprocessing import LabelEncoder\n",
    "from sklearn.preprocessing import StandardScaler\n",
    "\n",
    "from sklearn.model_selection import train_test_split\n",
    "from sklearn.model_selection import cross_val_score\n",
    "from sklearn.model_selection import StratifiedKFold\n",
    "from sklearn.model_selection import cross_validate\n",
    "\n",
    "from sklearn.tree import DecisionTreeClassifier\n",
    "from sklearn.ensemble import RandomForestClassifier\n",
    "from sklearn.ensemble import AdaBoostClassifier\n",
    "\n",
    "from sklearn.metrics import confusion_matrix\n",
    "from sklearn.metrics import precision_score\n",
    "from sklearn.metrics import recall_score\n",
    "from sklearn.metrics import f1_score\n",
    "\n",
    "from sklearn.decomposition import PCA\n",
    "\n",
    "from dython.nominal import associations\n",
    "from statsmodels.graphics.mosaicplot import mosaic\n",
    "from sklearn.model_selection import train_test_split\n",
    "from scipy import stats\n",
    "\n",
    "from collections import OrderedDict \n",
    "\n",
    "from IPython.core.interactiveshell import InteractiveShell  # print all outputs\n",
    "InteractiveShell.ast_node_interactivity = \"all\"\n",
    "\n",
    "plt.style.use('fivethirtyeight') \n",
    "mpl.rcParams['lines.linewidth'] = 2\n",
    "mpl.rcParams['text.color'] = 'k'\n",
    "\n",
    "%matplotlib inline"
   ]
  },
  {
   "cell_type": "code",
   "execution_count": 3,
   "metadata": {},
   "outputs": [],
   "source": [
    "SEED = 1234\n",
    "random.seed(SEED)"
   ]
  },
  {
   "cell_type": "code",
   "execution_count": 4,
   "metadata": {},
   "outputs": [],
   "source": [
    "df_test = pd.read_csv(\"data/processed_test.csv\")"
   ]
  },
  {
   "cell_type": "code",
   "execution_count": 5,
   "metadata": {},
   "outputs": [],
   "source": [
    "from sklearn.preprocessing import KBinsDiscretizer\n",
    "from sklearn.preprocessing import StandardScaler"
   ]
  },
  {
   "cell_type": "code",
   "execution_count": 6,
   "metadata": {},
   "outputs": [],
   "source": [
    "no_intervals = 5"
   ]
  },
  {
   "cell_type": "code",
   "execution_count": 7,
   "metadata": {},
   "outputs": [],
   "source": [
    "# FIRST DISCRETE ONLY FOR WEATHER OF TOTAL DF (X)\n",
    "\n",
    "#Weather_to_discretize are all the weather features\n",
    "\n",
    "weather_to_discrete = []\n",
    "weathers = ['temperature', 'rain_mm', 'humidity', 'wind_speed', 'pressure']\n",
    "operators = ['mean', 'max', 'min']\n",
    "\n",
    "#weather prev\n",
    "\n",
    "for w in weathers:\n",
    "    for o in operators:\n",
    "        for D in ['7', '3']:\n",
    "            weather_to_discrete.append(o + '_' + w + '_prev'+D+'d')\n",
    "        \n",
    "#weather future\n",
    "for w in weathers:\n",
    "    for o in operators:\n",
    "        for D in ['7', '14']:\n",
    "            weather_to_discrete.append(o + '_' + w + '_f_next'+D+'d')\n",
    "            "
   ]
  },
  {
   "cell_type": "code",
   "execution_count": 8,
   "metadata": {},
   "outputs": [],
   "source": [
    "discretizations = {\n",
    "     \n",
    "    'Ordinal-Equal-Width':KBinsDiscretizer(n_bins=no_intervals, encode='ordinal', strategy='uniform'),\n",
    "    }"
   ]
  },
  {
   "cell_type": "code",
   "execution_count": 9,
   "metadata": {},
   "outputs": [],
   "source": [
    "# df_to_discretize is the dataframe with features/columns I want to convert \n",
    "# original_df = the dataframe with all features\n",
    "# Xd = discretized np-array\n",
    "\n",
    "def discretized_to_df(Xd,df_to_discretize,original_df):\n",
    "    scaled_features_df = pd.DataFrame(Xd, index=df_to_discretize.index, columns=df_to_discretize.columns)\n",
    "    discretized_df = original_df.copy()\n",
    "    for col in scaled_features_df.columns:\n",
    "        if col in discretized_df.columns:\n",
    "            discretized_df[col] = scaled_features_df[col]      \n",
    "    return discretized_df "
   ]
  },
  {
   "cell_type": "markdown",
   "metadata": {},
   "source": [
    "#### Ordinal-Equal-Width is the best one ---> let's create the discretized dataframe"
   ]
  },
  {
   "cell_type": "code",
   "execution_count": 10,
   "metadata": {},
   "outputs": [],
   "source": [
    "#Let's discretize also the test data\n",
    "test_to_discretize = df_test[weather_to_discrete]    \n",
    "test_d = discretizations['Ordinal-Equal-Width'].fit_transform(test_to_discretize) # Creates a np-array with discretized values\n",
    "final_test = discretized_to_df(test_d, test_to_discretize,df_test) # creates a dataframe containing weather features with discretized value"
   ]
  },
  {
   "cell_type": "markdown",
   "metadata": {},
   "source": [
    "### Save the dataframe"
   ]
  },
  {
   "cell_type": "code",
   "execution_count": 11,
   "metadata": {},
   "outputs": [],
   "source": [
    "final_test.to_csv('data/processed_discrete_test_data.csv',index=False)"
   ]
  }
 ],
 "metadata": {
  "kernelspec": {
   "display_name": "Python 3",
   "language": "python",
   "name": "python3"
  },
  "language_info": {
   "codemirror_mode": {
    "name": "ipython",
    "version": 3
   },
   "file_extension": ".py",
   "mimetype": "text/x-python",
   "name": "python",
   "nbconvert_exporter": "python",
   "pygments_lexer": "ipython3",
   "version": "3.7.7"
  }
 },
 "nbformat": 4,
 "nbformat_minor": 4
}
